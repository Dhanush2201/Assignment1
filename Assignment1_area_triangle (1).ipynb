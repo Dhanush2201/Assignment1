{
 "cells": [
  {
   "cell_type": "code",
   "execution_count": 2,
   "metadata": {},
   "outputs": [
    {
     "name": "stdout",
     "output_type": "stream",
     "text": [
      "first side2\n",
      "second side4\n",
      "third side6\n",
      "Area of triangle is 6\n"
     ]
    }
   ],
   "source": [
    "a=int(input(\"first side\"))\n",
    "b=int(input(\"second side\"))\n",
    "c=int(input(\"third side\"))\n",
    "area=(a+b+c)/2\n",
    "print(\"Area of triangle is \"'%d'%area)\n"
   ]
  },
  {
   "cell_type": "code",
   "execution_count": null,
   "metadata": {},
   "outputs": [],
   "source": []
  }
 ],
 "metadata": {
  "kernelspec": {
   "display_name": "Python 3",
   "language": "python",
   "name": "python3"
  },
  "language_info": {
   "codemirror_mode": {
    "name": "ipython",
    "version": 3
   },
   "file_extension": ".py",
   "mimetype": "text/x-python",
   "name": "python",
   "nbconvert_exporter": "python",
   "pygments_lexer": "ipython3",
   "version": "3.7.6"
  }
 },
 "nbformat": 4,
 "nbformat_minor": 4
}
