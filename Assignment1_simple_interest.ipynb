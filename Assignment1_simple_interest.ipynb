{
 "cells": [
  {
   "cell_type": "code",
   "execution_count": 3,
   "metadata": {},
   "outputs": [
    {
     "name": "stdout",
     "output_type": "stream",
     "text": [
      "The principal is 4\n",
      "The time period is 6\n",
      "The rate of interest is 8\n",
      "The Simple Interest is 1.92\n"
     ]
    },
    {
     "data": {
      "text/plain": [
       "1.92"
      ]
     },
     "execution_count": 3,
     "metadata": {},
     "output_type": "execute_result"
    }
   ],
   "source": [
    "def simple_interest(p,t,r): \n",
    "    print('The principal is', p) \n",
    "    print('The time period is', t) \n",
    "    print('The rate of interest is',r) \n",
    "    si = (p * t * r)/100    \n",
    "    print('The Simple Interest is', si) \n",
    "    return si  \n",
    "simple_interest(4,6,8)"
   ]
  },
  {
   "cell_type": "code",
   "execution_count": null,
   "metadata": {},
   "outputs": [],
   "source": []
  }
 ],
 "metadata": {
  "kernelspec": {
   "display_name": "Python 3",
   "language": "python",
   "name": "python3"
  },
  "language_info": {
   "codemirror_mode": {
    "name": "ipython",
    "version": 3
   },
   "file_extension": ".py",
   "mimetype": "text/x-python",
   "name": "python",
   "nbconvert_exporter": "python",
   "pygments_lexer": "ipython3",
   "version": "3.7.6"
  }
 },
 "nbformat": 4,
 "nbformat_minor": 4
}
